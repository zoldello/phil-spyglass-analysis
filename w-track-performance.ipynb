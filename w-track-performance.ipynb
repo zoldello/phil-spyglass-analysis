{
 "cells": [
  {
   "cell_type": "markdown",
   "id": "113007f2-728c-4d74-8ed8-29348d8d3674",
   "metadata": {},
   "source": [
    "**Animal Performance on W-Track** "
   ]
  },
  {
   "cell_type": "code",
   "execution_count": 24,
   "id": "e8eec4e8-140e-407c-abaf-fe59b79eaf29",
   "metadata": {},
   "outputs": [],
   "source": [
    "data_directory = '/home/zoldello/Documents/data/L5/r1/20230531_150338/'\n",
    "trodes_directory = '/home/zoldello/Apps/Trodes_2-4-0_Ubuntu2004/'\n",
    "\n",
    "file_name = f'{data_directory}20230531_150338.rec'\n",
    "trodesexport_runner = f'{trodes_directory}trodesexport'"
   ]
  },
  {
   "cell_type": "code",
   "execution_count": 25,
   "id": "7bf28e4e-7a59-462b-a547-3ab63953f5e1",
   "metadata": {},
   "outputs": [
    {
     "name": "stdout",
     "output_type": "stream",
     "text": [
      "Exporting data...\n",
      "Done7%\n"
     ]
    }
   ],
   "source": [
    "!$trodesexport_runner -rec {file_name} -dio -time\n",
    "#!/home/zoldello/Apps/Trodes_2-4-0_Ubuntu2004/trodesexport -rec {file_name} -dio -time"
   ]
  },
  {
   "cell_type": "code",
   "execution_count": 17,
   "id": "44c8a68f-76b9-4840-ad68-0f00dcc833ca",
   "metadata": {},
   "outputs": [
    {
     "data": {
      "text/plain": [
       "'/home/zoldello/Apps/Trodes_2-4-0_Ubuntu2004/trodesexport'"
      ]
     },
     "execution_count": 17,
     "metadata": {},
     "output_type": "execute_result"
    }
   ],
   "source": [
    "#trodes_directory\n",
    "trodesexport_runner"
   ]
  },
  {
   "cell_type": "code",
   "execution_count": null,
   "id": "516b5fb8-5b69-425e-bb72-c97f388171e0",
   "metadata": {},
   "outputs": [],
   "source": []
  },
  {
   "cell_type": "code",
   "execution_count": null,
   "id": "a8c60e7c-fa0d-4798-abc2-ebd9fe3a09b5",
   "metadata": {},
   "outputs": [],
   "source": []
  }
 ],
 "metadata": {
  "kernelspec": {
   "display_name": "Python 3 (ipykernel)",
   "language": "python",
   "name": "python3"
  },
  "language_info": {
   "codemirror_mode": {
    "name": "ipython",
    "version": 3
   },
   "file_extension": ".py",
   "mimetype": "text/x-python",
   "name": "python",
   "nbconvert_exporter": "python",
   "pygments_lexer": "ipython3",
   "version": "3.9.7"
  }
 },
 "nbformat": 4,
 "nbformat_minor": 5
}
